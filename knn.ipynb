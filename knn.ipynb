{
 "cells": [
  {
   "cell_type": "code",
   "execution_count": 14,
   "metadata": {},
   "outputs": [],
   "source": [
    "import csv\n",
    "import numpy as np\n",
    "\n",
    "with open('Diabetes.csv') as file: #read the diabetes dataset\n",
    "    data = []\n",
    "    diabetes = csv.reader(file)\n",
    "    header = next(diabetes) #exclude the column name\n",
    "    if header != None:\n",
    "        for row in diabetes:\n",
    "            data.append([row[0],row[1],row[2],row[3],row[4],row[5],row[6],row[7],row[8]]) # input all element of dataset into array"
   ]
  },
  {
   "cell_type": "code",
   "execution_count": 2,
   "metadata": {},
   "outputs": [],
   "source": [
    "def manhattan(train,test): #manhattan distance function\n",
    "    result = abs(float(train[0])-float(test[0]))+abs(float(train[1])-float(test[1]))+ abs(float(train[2])-float(test[2]))+abs(float(train[3])-float(test[3]))+abs(float(train[4])-float(test[4]))+ abs(float(train[5])-float(test[5]))+ abs(float(train[6])-float(test[6]))+ abs(float(train[7])-float(test[7]))\n",
    "    return result"
   ]
  },
  {
   "cell_type": "code",
   "execution_count": 3,
   "metadata": {},
   "outputs": [],
   "source": [
    "def knn(k,train,test): #k-nearest neighbor function\n",
    "    mark = [0,0]\n",
    "    best_result = []\n",
    "    dist = []\n",
    "    for i in range(0,len(test)): # a loop with the length of the data test\n",
    "        for j in range(0,len(train)): # a loop with the length of the data train\n",
    "            result = manhattan(test[i],train[j]) #calculate the distance\n",
    "            dist.append([result,train[j][8]]) #input it into array\n",
    "        sorting = sorted(dist)#sort the distance values\n",
    "        for l in range(0,k):\n",
    "            if sorting[l][1]==\"0\": # label all the result\n",
    "                mark[0]+=1\n",
    "            else:\n",
    "                mark[1]+=1\n",
    "        result = mark.index(max(mark)) #get the maximum valye\n",
    "        best_result.append((result))\n",
    "    return best_result"
   ]
  },
  {
   "cell_type": "code",
   "execution_count": 4,
   "metadata": {
    "scrolled": false
   },
   "outputs": [],
   "source": [
    "train1,test1 = data[0:614],data[614:]  #data train 1 0-614 and test 1 614-767\n",
    "train2,test2 = np.concatenate((data[0:461],data[614:])),data[461:614] #data train 2 0-461+614-767 and test 2 461-614\n",
    "train3,test3 = np.concatenate((data[0:307],data[461:])),data[307:461] #data train 3 0-307 + 461-767 test 3 307-461\n",
    "train4,test4 = np.concatenate((data[0:154],data[307:])),data[154:307] #data train 0-154+307-767 and test 154-307  \n",
    "train5,test5 = data[154:],data[0:154]#data train 4 153-767 and train 0-153\n",
    "\n",
    "\n",
    "k = 6 # the number of k for knn\n",
    "p1 = knn(k,train1,test1)\n",
    "p2 = knn(k,train2,test2)\n",
    "p3 = knn(k,train3,test3)\n",
    "p4 = knn(k,train4,test4)\n",
    "p5 = knn(k,train5,test5)\n",
    "\n",
    "predict = p5 + p4 + p3 + p2 + p1 # sum all prediction"
   ]
  },
  {
   "cell_type": "code",
   "execution_count": 5,
   "metadata": {},
   "outputs": [],
   "source": [
    "def countPred(data,predict):\n",
    "    count = 0\n",
    "    for i in range(0,len(predict)): # a loop with length of predict\n",
    "        predresult = str(predict[i])\n",
    "        if predresult == data[i][8]: # chech the value if it same or not\n",
    "            count +=1 #if it's same then count added 1\n",
    "    return count"
   ]
  },
  {
   "cell_type": "code",
   "execution_count": 6,
   "metadata": {},
   "outputs": [],
   "source": [
    "def calculate(final):\n",
    "    count = countPred(data,predict)\n",
    "    length = len(predict)\n",
    "    final = count/length*100 #count the accuracy the total of the same value divide by the length of the goven prediction multiply by 100\n",
    "    return round(final)"
   ]
  },
  {
   "cell_type": "code",
   "execution_count": 7,
   "metadata": {},
   "outputs": [
    {
     "name": "stdout",
     "output_type": "stream",
     "text": [
      "K: 6\n",
      "Accuracy : 65 %\n"
     ]
    }
   ],
   "source": [
    "calcu = countPred(data,predict)\n",
    "result = calculate(calcu)\n",
    "print(\"K:\",k)\n",
    "print(\"Accuracy :\",calculate(result),'%')"
   ]
  }
 ],
 "metadata": {
  "kernelspec": {
   "display_name": "Python 3",
   "language": "python",
   "name": "python3"
  },
  "language_info": {
   "codemirror_mode": {
    "name": "ipython",
    "version": 3
   },
   "file_extension": ".py",
   "mimetype": "text/x-python",
   "name": "python",
   "nbconvert_exporter": "python",
   "pygments_lexer": "ipython3",
   "version": "3.8.5"
  }
 },
 "nbformat": 4,
 "nbformat_minor": 4
}
